{
 "cells": [
  {
   "cell_type": "markdown",
   "metadata": {
    "slideshow": {
     "slide_type": "slide"
    }
   },
   "source": [
    "# Z-Mass peak with Spark\n"
   ]
  },
  {
   "cell_type": "markdown",
   "metadata": {
    "slideshow": {
     "slide_type": "slide"
    }
   },
   "source": [
    "Start a Spark session loading spark-root and histogrammar"
   ]
  },
  {
   "cell_type": "code",
   "execution_count": 1,
   "metadata": {},
   "outputs": [],
   "source": [
    "# Start up Spark (only needs to be done once)\n",
    "import os\n",
    "import pyspark.sql\n",
    "import sys\n",
    "session = pyspark.sql.SparkSession.builder \\\n",
    "    .appName(\"pyspark-zpeak\") \\\n",
    "    .master(\"spark://10.64.22.66:7077\") \\\n",
    "    .config('spark.jars.packages') \\\n",
    "    .config('spark.jars.packages','org.diana-hep:spark-root_2.11:0.1.13,org.diana-hep:histogrammar-sparksql_2.11:1.0.4',) \\\n",
    "    .config('spark.cores.max',3,) \\\n",
    "    .getOrCreate()\n",
    "sc = session.sparkContext\n",
    "sqlContext = session"
   ]
  },
  {
   "cell_type": "markdown",
   "metadata": {
    "slideshow": {
     "slide_type": "slide"
    }
   },
   "source": [
    "# Define the list of samplels\n",
    "\n",
    "Use a python dictionary to store the sample name, file and related quantities (x-section, overall weight, line color, etc) "
   ]
  },
  {
   "cell_type": "code",
   "execution_count": 2,
   "metadata": {},
   "outputs": [],
   "source": [
    "LUMI = 35900 # in pb\n",
    "\n",
    "###\n",
    "BASE       = 'NANO_Prod/'\n",
    "\n",
    "####\n",
    "samples = {    \n",
    "    'SingleMuon' : {\n",
    "         'filename' : 'SingleMuonRun2016C-03Feb2017-v1.root',   \n",
    "         'xsec'     : None,   \n",
    "         'eff'      : 1.,   \n",
    "         'kfactor'  : 1.,   \n",
    "         'weight'   : 1.,   \n",
    "         'color'    : 'black',   \n",
    "        },\n",
    "    'DYJetsToLL' : {\n",
    "         'filename' : 'DYJetsToLL_M-50_TuneCUETP8M1_13TeV-madgraphMLM-pythia8_ext1-v2.root',   \n",
    "         'xsec'     : 3.*1921.8,   \n",
    "         'eff'      : 1.,   \n",
    "         'kfactor'  : 1.,   \n",
    "         'weight'   : 1.,   \n",
    "         'color'    : 'green',   \n",
    "        },\n",
    "    'TT' : {\n",
    "         'filename' : 'TT_TuneCUETP8M2T4_13TeV-powheg-pythia8-v1.root',   \n",
    "         'xsec'     : 831.76,   \n",
    "         'eff'      : 1.,   \n",
    "         'kfactor'  : 1.,   \n",
    "         'weight'   : 1.,   \n",
    "         'color'    : 'gold',   \n",
    "        },\n",
    "    'WW' : {\n",
    "         'filename' : 'WW_TuneCUETP8M1_13TeV-pythia8-v1.root',   \n",
    "         'xsec'     : 118.7,   \n",
    "         'eff'      : 1.,   \n",
    "         'kfactor'  : 1.,   \n",
    "         'weight'   : 1.,   \n",
    "         'color'    : 'blue',   \n",
    "        },\n",
    "    'WZ' : {\n",
    "         'filename' : 'WZ_TuneCUETP8M1_13TeV-pythia8-v1.root',   \n",
    "         'xsec'     : 47.2,   \n",
    "         'eff'      : 1.,   \n",
    "         'kfactor'  : 1.,   \n",
    "         'weight'   : 1.,   \n",
    "         'color'    : 'mediumblue',   \n",
    "        },\n",
    "    'ZZ' : {\n",
    "         'filename' : 'ZZ_TuneCUETP8M1_13TeV-pythia8-v1.root',   \n",
    "         'xsec'     : 16.6,   \n",
    "         'eff'      : 1.,   \n",
    "         'kfactor'  : 1.,   \n",
    "         'weight'   : 1.,   \n",
    "         'color'    : 'darkblue',   \n",
    "        },   \n",
    "}\n"
   ]
  },
  {
   "cell_type": "markdown",
   "metadata": {
    "slideshow": {
     "slide_type": "slide"
    }
   },
   "source": [
    "# Create DATA/MC DataFrames\n",
    "\n",
    "Create 1 dataframe list for Data and MC appending colums with global information as samplenames and xsections to the dataframes using lit()."
   ]
  },
  {
   "cell_type": "code",
   "execution_count": 11,
   "metadata": {
    "slideshow": {
     "slide_type": "slide"
    }
   },
   "outputs": [
    {
     "name": "stdout",
     "output_type": "stream",
     "text": [
      "TT\n",
      "WW\n",
      "SingleMuon\n",
      "ZZ\n",
      "DYJetsToLL\n",
      "WZ\n",
      "DFList size = 6\n",
      "done\n"
     ]
    }
   ],
   "source": [
    "import json\n",
    "from pyspark.sql.functions import lit\n",
    "\n",
    "\n",
    "DFList = []\n",
    "\n",
    "for s in samples:   \n",
    "    print s\n",
    "    dsPath = \"hdfs://10.64.22.72:9000/\"+BASE+samples[s]['filename']\n",
    "    tempDF = session.read \\\n",
    "                .format(\"org.dianahep.sparkroot\") \\\n",
    "                .option(\"tree\", \"Events\") \\\n",
    "                .load(dsPath)\\\n",
    "                .withColumn(\"xsec\", lit(samples[s]['xsec']))\\\n",
    "                .withColumn(\"eff\", lit(samples[s]['eff']))\\\n",
    "                .withColumn(\"kfactor\", lit(samples[s]['kfactor']))\\\n",
    "                .withColumn(\"weight\", lit(samples[s]['weight']))\\\n",
    "                .withColumn(\"sample\", lit(s))        \n",
    "    nev = tempDF.count()\n",
    "    if samples[s]['xsec'] == None: # Data       \n",
    "        DFList.append([tempDF.withColumn(\"nevents\",lit(nev))])        \n",
    "    else: # MC\n",
    "        samples[s]['weight'] = samples[s]['xsec'] * samples[s]['eff'] * samples[s]['kfactor'] * LUMI / nev\n",
    "        DFList.append([tempDF.withColumn(\"nevents\",lit(nev))])        \n",
    "        \n",
    "print \"DFList size =\", len(DFList)\n",
    "\n",
    "print \"done\""
   ]
  },
  {
   "cell_type": "markdown",
   "metadata": {
    "slideshow": {
     "slide_type": "slide"
    }
   },
   "source": [
    "# Reduce and Combine DataFrames\n",
    "\n",
    "Reduce the dataframe to have a smaller number of columns (from here one can also drop the dataframes into Avro/Parquet format).\n",
    "\n",
    "Then, merge MC and DATA dataframes into one single dataframe.\n",
    "\n",
    "This intermediate step is needed because joining dataframes won't work if schema is different across the various dataframes."
   ]
  },
  {
   "cell_type": "code",
   "execution_count": 12,
   "metadata": {
    "slideshow": {
     "slide_type": "-"
    }
   },
   "outputs": [
    {
     "name": "stdout",
     "output_type": "stream",
     "text": [
      "Partitions:  18\n"
     ]
    }
   ],
   "source": [
    "mycolumns = [\n",
    "    ###\n",
    "    \"Muon_pt\",\n",
    "    \"Muon_eta\",\n",
    "    \"Muon_phi\",\n",
    "    \"Muon_mass\",\n",
    "    \"Muon_charge\",\n",
    "    \"Muon_dxy_ugo\",\n",
    "    \"Muon_pfRelIso04_all\",\n",
    "    \"Muon_pfRelIso03_all\",    \n",
    "    \"Muon_highPtId\",\n",
    "    \"Muon_isPFcand\",\n",
    "    \"Muon_mediumId\",\n",
    "    \"Muon_softId\",\n",
    "    \"Muon_tightId\",\n",
    "    \"nMuon\",\n",
    "    ###\n",
    "    \"Electron_pt\",\n",
    "    \"Electron_eta\",\n",
    "    \"Electron_phi\",\n",
    "    \"Electron_mass\",\n",
    "    \"Electron_charge\",\n",
    "    \"Electron_dxy_ugo\",\n",
    "    \"Electron_pfRelIso03_all\",    \n",
    "    \"Electron_eCorr\",\n",
    "    \"Electron_cutBased\",\n",
    "    \"nElectron\",\n",
    "    ###\n",
    "    \"nFatJet\",\n",
    "    \"FatJet_btagCMVA\",\n",
    "    \"FatJet_btagCSVV2\",\n",
    "    \"FatJet_btagDeepB\",\n",
    "    \"FatJet_btagHbb\",\n",
    "    \"FatJet_eta\",\n",
    "    \"FatJet_mass\",\n",
    "    \"FatJet_msoftdrop\",\n",
    "    \"FatJet_n2b1\",\n",
    "    \"FatJet_n3b1\",\n",
    "    \"FatJet_phi\",\n",
    "    \"FatJet_pt\",\n",
    "    \"FatJet_tau1\",\n",
    "    \"FatJet_tau2\",\n",
    "    \"FatJet_tau3\",\n",
    "    \"FatJet_tau4\",\n",
    "    \"FatJet_subJetIdx1\",\n",
    "    \"FatJet_subJetIdx2\",\n",
    "    ###\n",
    "    \"nJet\",\n",
    "    \"Jet_btagCMVA\",\n",
    "    \"Jet_btagCSVV2\",\n",
    "    \"Jet_btagDeepB\",\n",
    "    \"Jet_eta\",\n",
    "    \"Jet_mass\",\n",
    "    \"Jet_phi\",\n",
    "    \"Jet_pt\",\n",
    "    \"Jet_electronIdx1\",\n",
    "    \"Jet_electronIdx2\",\n",
    "    \"Jet_jetId\",\n",
    "    \"Jet_muonIdx1\",\n",
    "    \"Jet_muonIdx2\",\n",
    "    \"Jet_nConstituents\",\n",
    "    ###\n",
    "    \"MET_phi\",\n",
    "    \"MET_pt\",\n",
    "    \"MET_significance\",\n",
    "    \"MET_sumEt\",\n",
    "    ###\n",
    "    \"nSubJet\",\n",
    "    \"SubJet_btagCMVA\",\n",
    "    \"SubJet_btagCSVV2\",\n",
    "    \"SubJet_btagDeepB\",\n",
    "    \"SubJet_eta\",\n",
    "    \"SubJet_mass\",\n",
    "    \"SubJet_n2b1\",\n",
    "    \"SubJet_n3b1\",\n",
    "    \"SubJet_phi\",\n",
    "    \"SubJet_pt\",\n",
    "    \"SubJet_tau1\",\n",
    "    \"SubJet_tau2\",\n",
    "    \"SubJet_tau3\",\n",
    "    \"SubJet_tau4\",\n",
    "    ###\n",
    "    \"nTau\",\n",
    "    \"nPhoton\",\n",
    "    ###\n",
    "    \"HLT_IsoMu24\",\n",
    "    \"HLT_IsoMu27\",\n",
    "    \"HLT_Mu50\",\n",
    "    \"HLT_TkMu50\",\n",
    "    ###\n",
    "    \"xsec\",\n",
    "    \"eff\",\n",
    "    \"kfactor\",\n",
    "    \"nevents\",\n",
    "    \"weight\",\n",
    "    \"sample\",\n",
    "]\n",
    "\n",
    "\n",
    "DF = None\n",
    "if DFList:\n",
    "    DF = DFList[0][0].select(*mycolumns)\n",
    "    for x in DFList[1:]:\n",
    "        DF = DF.union(x[0].select(mycolumns))\n",
    "    print \"Partitions:  %d\" % DF.rdd.getNumPartitions()\n"
   ]
  },
  {
   "cell_type": "markdown",
   "metadata": {
    "slideshow": {
     "slide_type": "slide"
    }
   },
   "source": [
    "# Inspect DataFrame\n",
    "\n",
    "Quick inspections of the DF"
   ]
  },
  {
   "cell_type": "code",
   "execution_count": 14,
   "metadata": {
    "slideshow": {
     "slide_type": "-"
    }
   },
   "outputs": [
    {
     "name": "stdout",
     "output_type": "stream",
     "text": [
      "+------+-----------------+---------------------------------+-----------------------------------+\n",
      "|sample|weight           |Muon_pt                          |Muon_eta                           |\n",
      "+------+-----------------+---------------------------------+-----------------------------------+\n",
      "|TT    |78.15226773660807|[]                               |[]                                 |\n",
      "|TT    |78.15226773660807|[21.490677]                      |[0.70581055]                       |\n",
      "|TT    |78.15226773660807|[11.1236105, 9.670298, 3.6050043]|[1.4187012, -0.14077759, 2.2949219]|\n",
      "|TT    |78.15226773660807|[26.88115]                       |[-0.058418274]                     |\n",
      "|TT    |78.15226773660807|[95.00175, 9.536867]             |[0.0014092922, -0.5196533]         |\n",
      "+------+-----------------+---------------------------------+-----------------------------------+\n",
      "only showing top 5 rows\n",
      "\n"
     ]
    }
   ],
   "source": [
    "DF.select(\"sample\",\"weight\",\"Muon_pt\", \"Muon_eta\").show(5, truncate = False)"
   ]
  },
  {
   "cell_type": "markdown",
   "metadata": {
    "slideshow": {
     "slide_type": "slide"
    }
   },
   "source": [
    "# Define a Z-->m+m- User Defined Function (UDF)\n",
    "\n",
    "UDFs can be used for transformations that are more complex than can be expressed with `where()` and friends.\n",
    "\n",
    "For each row in the input DF, Spark will call your UDF and pass in the columns you request. The return value is added as a new column in the output DF.\n",
    "\n",
    "Spark doesn't support having a single UDF fill multiple columns, so we have to pack multiple values into a single column.\n",
    "\n",
    "## Define the structure of the dimuon candidate\n",
    "\n",
    "In this example, the dimuon candidate structure will contain a boolean (passing/failing the dimuon selection), and the main dimuon candidate quantities"
   ]
  },
  {
   "cell_type": "code",
   "execution_count": 15,
   "metadata": {},
   "outputs": [],
   "source": [
    "# Z->mm candidate structure\n",
    "\n",
    "from pyspark.sql.types import *\n",
    "\n",
    "schema = StructType([\n",
    "    StructField(\"pass\", BooleanType(), False), # True if filled / False if default(empty) \n",
    "    StructField(\"mass\", FloatType(), False), # Z mass\n",
    "    StructField(\"pt\", FloatType(), False), # Z pt\n",
    "    StructField(\"eta\", FloatType(), False), # Z eta\n",
    "    StructField(\"phi\", FloatType(), False), # Z phi\n",
    "    StructField(\"mu1_pt\", FloatType(), False), # leading mu pT \n",
    "    StructField(\"mu2_pt\", FloatType(), False), # sub-leading mu pT \n",
    "    StructField(\"mu1_eta\", FloatType(), False), # leading mu eta\n",
    "    StructField(\"mu2_eta\", FloatType(), False), # sub-leading mu eta\n",
    "    StructField(\"mu1_phi\", FloatType(), False), # leading mu phi\n",
    "    StructField(\"mu2_phi\", FloatType(), False), # sub-leading mu phi\n",
    "    StructField(\"mu1_charge\", FloatType(), False), # leading mu charge \n",
    "    StructField(\"mu2_charge\", FloatType(), False), # sub-leading mu charge \n",
    "    StructField(\"dPhi\", FloatType(), False), # mu1,mu2 DeltaPhi\n",
    "    StructField(\"dEta\", FloatType(), False), # mu1,mu2 DeltaEta\n",
    "    StructField(\"dR\", FloatType(), False), # mu1,mu2 DeltaR\n",
    "])"
   ]
  },
  {
   "cell_type": "markdown",
   "metadata": {},
   "source": [
    "## Define the math of the UDF\n",
    "\n",
    "Helper functions like deltaPhi and deltaR could be moved elsewhere (e.g. defining a helper module).\n",
    "\n",
    "Dimuon pair is selected if (sub)leading muons is > 30(10) GeV and |eta| < 2.4.\n",
    "Both muons must pass the MediumID WP.\n",
    "Leading and subleading muons must be of opposite charge."
   ]
  },
  {
   "cell_type": "code",
   "execution_count": 16,
   "metadata": {
    "slideshow": {
     "slide_type": "slide"
    }
   },
   "outputs": [],
   "source": [
    "from math import *\n",
    "\n",
    "# helper functions\n",
    "def deltaPhi(phi1,phi2):\n",
    "    ## Catch if being called with two objects\n",
    "    if type(phi1) != float and type(phi1) != int:\n",
    "        phi1 = phi1.phi\n",
    "    if type(phi2) != float and type(phi2) != int:\n",
    "        phi2 = phi2.phi\n",
    "    ## Otherwise\n",
    "    dphi = (phi1-phi2)\n",
    "    while dphi >  pi: dphi -= 2*pi\n",
    "    while dphi < -pi: dphi += 2*pi\n",
    "    return dphi\n",
    "\n",
    "def deltaR(eta1,phi1,eta2=None,phi2=None):\n",
    "    ## catch if called with objects\n",
    "    if eta2 == None:\n",
    "        return deltaR(eta1.eta,eta1.phi,phi1.eta,phi1.phi)\n",
    "    ## otherwise\n",
    "    return hypot(eta1-eta2, deltaPhi(phi1,phi2))\n",
    "\n",
    "# default class implementation\n",
    "ZmmFalse = (False, 0.0, 0.0, 0.0, 0.0, 0.0, 0.0, 0.0, 0.0, 0.0, 0.0, 0.0, 0.0, 0.0, 0.0, 0.0)\n",
    "def ZmmFunction(pt,eta,phi,charge,mass,medium):\n",
    "    passes = True\n",
    "    if len(pt) < 2:\n",
    "        return ZmmFalse\n",
    "    \n",
    "    leadingIdx = None\n",
    "    trailingIdx = None\n",
    "    for idx in range(len(pt)):\n",
    "        if leadingIdx == None:\n",
    "            if pt[idx] > 30 and abs(eta[idx]) < 2.4 and medium[idx]:\n",
    "                leadingIdx = idx\n",
    "        elif trailingIdx == None:\n",
    "            if pt[idx] > 10 and abs(eta[idx]) < 2.4 and (medium[idx]):\n",
    "                trailingIdx = idx\n",
    "        else:\n",
    "            if pt[idx] > 10 and abs(eta[idx]) < 2.4 and medium[idx]:\n",
    "                return ZmmFalse\n",
    "    \n",
    "    if leadingIdx != None and trailingIdx != None and charge[leadingIdx]!=charge[trailingIdx]:\n",
    "        \n",
    "        mass1 = mass[leadingIdx]\n",
    "        pt1 = pt[leadingIdx]\n",
    "        phi1 = phi[leadingIdx]\n",
    "        eta1 = eta[leadingIdx]\n",
    "        theta1 = 2.0*atan(exp(-eta1))\n",
    "        px1 = pt1 * cos(phi1)\n",
    "        py1 = pt1 * sin(phi1)\n",
    "        pz1 = pt1 / tan(theta1)\n",
    "        E1 = sqrt(px1**2 + py1**2 + pz1**2 + mass1**2)\n",
    "        \n",
    "        mass2 = mass[trailingIdx]\n",
    "        pt2 = pt[trailingIdx]\n",
    "        phi2 = phi[trailingIdx]\n",
    "        eta2 = eta[trailingIdx]\n",
    "        theta2 = 2.0*atan(exp(-eta2))\n",
    "        px2 = pt2 * cos(phi2)\n",
    "        py2 = pt2 * sin(phi2)\n",
    "        pz2 = pt2 / tan(theta2)\n",
    "        E2 = sqrt(px2**2 + py2**2 + pz2**2 + mass2**2)\n",
    "        \n",
    "        \n",
    "        themass = sqrt((E1 + E2)**2 - (px1 + px2)**2 - (py1 + py2)**2 - (pz1 + pz2)**2)\n",
    "        thept = sqrt((px1 + px2)**2 + (py1 + py2)**2)\n",
    "        thetheta = atan( thept / (pz1 + pz2) )        \n",
    "        theeta = 0.5*log( (sqrt((px1 + px2)**2 + (py1 + py2)**2 + (pz1 + pz2)**2)+(pz1 + pz2))/(sqrt((px1 + px2)**2 + (py1 + py2)**2 + (pz1 + pz2)**2)-(pz1 + pz2)) )\n",
    "        thephi = asin((py1 + py2)/thept)\n",
    "                \n",
    "        delPhi = deltaPhi(phi[leadingIdx],phi[trailingIdx])\n",
    "        delR = deltaR(eta[leadingIdx],phi[leadingIdx],eta[trailingIdx],phi[trailingIdx])\n",
    "        delEta = eta[leadingIdx]-eta[trailingIdx]\n",
    "        \n",
    "        return (True, \n",
    "                themass, thept, theeta, thephi, \n",
    "                pt[leadingIdx], pt[trailingIdx],\n",
    "                eta[leadingIdx], eta[trailingIdx],\n",
    "                phi[leadingIdx], phi[trailingIdx],\n",
    "                charge[leadingIdx], charge[trailingIdx],\n",
    "                delPhi, delR, delEta\n",
    "               )\n",
    "    else:\n",
    "        return ZmmFalse    "
   ]
  },
  {
   "cell_type": "markdown",
   "metadata": {},
   "source": [
    "## Test the UDF\n",
    "\n",
    "Pass a pair of muons to the UDF to test the behaviour."
   ]
  },
  {
   "cell_type": "code",
   "execution_count": 17,
   "metadata": {},
   "outputs": [
    {
     "name": "stdout",
     "output_type": "stream",
     "text": [
      "(True, 87.69167127931945, 17.230793923039208, 0.5546137602058708, -0.771223374413431, 52.707950592041016, 35.526939392089844, 0.24396079778671265, -0.08245399594306946, -0.8336199522018433, 2.2777249813079834, 1.0, -1.0, -3.1113449335098267, 3.128420354243164, 0.3264147937297821)\n",
      "(False, 0.0, 0.0, 0.0, 0.0, 0.0, 0.0, 0.0, 0.0, 0.0, 0.0, 0.0, 0.0, 0.0, 0.0, 0.0)\n"
     ]
    }
   ],
   "source": [
    "# Some example muons to test we get the right thing from our UDF\n",
    "# This should pass\n",
    "print ZmmFunction([52.707950592041016, 35.526939392089844],\n",
    "                 [0.24396079778671265, -0.08245399594306946],\n",
    "                 [-0.8336199522018433, 2.2777249813079834],\n",
    "                 [1.0, -1.0],\n",
    "                 [0.100, 0.100],\n",
    "                 [True, True])\n",
    "# This should fail\n",
    "print ZmmFunction([52.707950592041016, 5.526939392089844],\n",
    "                 [0.24396079778671265, -0.08245399594306946],\n",
    "                 [-0.8336199522018433, 2.2777249813079834],\n",
    "                 [1.0, -1.0],\n",
    "                 [0.100, 0.100],\n",
    "                 [True, True])    "
   ]
  },
  {
   "cell_type": "markdown",
   "metadata": {
    "slideshow": {
     "slide_type": "slide"
    }
   },
   "source": [
    "# Create a 'Z-->mm candidate' column using the UDF\n",
    "\n",
    "Apply the UDF (equivalent to looping within a row) and create a 'Z-->mm candidate' structure in the DF"
   ]
  },
  {
   "cell_type": "code",
   "execution_count": 18,
   "metadata": {
    "scrolled": true
   },
   "outputs": [],
   "source": [
    "# Convert the python function to a Spark UDF\n",
    "from pyspark.sql.functions import udf\n",
    "ZmmUDF = udf(ZmmFunction, schema)\n",
    "# Make a new column and fill it with the results of muonUDF\n",
    "ZmmDF = DF.withColumn(\"Zmm\", ZmmUDF(\"Muon_pt\", \n",
    "                                         \"Muon_eta\",\n",
    "                                         \"Muon_phi\",\n",
    "                                         \"Muon_charge\",\n",
    "                                         \"Muon_mass\",\n",
    "                                         \"Muon_mediumId\")\n",
    "                         )\n"
   ]
  },
  {
   "cell_type": "markdown",
   "metadata": {
    "slideshow": {
     "slide_type": "slide"
    }
   },
   "source": [
    "# Check events passing the Z-->mm UDF\n",
    "\n",
    "UDF sets `flat.pass` to `False` for events that fail dimuon cuts.\n"
   ]
  },
  {
   "cell_type": "code",
   "execution_count": 19,
   "metadata": {},
   "outputs": [
    {
     "name": "stdout",
     "output_type": "stream",
     "text": [
      "+------+-----------------+---------------------------------------------------------------------------------------------------------------------------------------------------------+\n",
      "|sample|weight           |Zmm                                                                                                                                                      |\n",
      "+------+-----------------+---------------------------------------------------------------------------------------------------------------------------------------------------------+\n",
      "|TT    |78.15226773660807|[true,144.83916,124.13932,-0.19060248,0.2909783,135.60971,49.35242,-0.27734375,0.28564453,2.4785156,-1.8173828,null,null,-1.9872869,2.0654938,-0.5629883]|\n",
      "|TT    |78.15226773660807|[true,71.81045,107.88356,1.3385386,-1.1175364,86.59694,30.364235,1.4689941,0.4281006,-1.7995605,-2.711914,null,null,0.9123535,1.3841417,1.0408936]       |\n",
      "+------+-----------------+---------------------------------------------------------------------------------------------------------------------------------------------------------+\n",
      "only showing top 2 rows\n",
      "\n"
     ]
    }
   ],
   "source": [
    "ZmmDF.filter(\"Zmm.pass\").select(\"sample\",\"weight\",\"Zmm\").show(2, truncate = False)"
   ]
  },
  {
   "cell_type": "markdown",
   "metadata": {
    "slideshow": {
     "slide_type": "slide"
    }
   },
   "source": [
    "# Plot Zmm-related variables\n",
    "\n",
    "Use Matplotlib and Histogrammar to create plots starting from the whole dataframe (i.e. un-weighted mix of data and MC)"
   ]
  },
  {
   "cell_type": "code",
   "execution_count": 27,
   "metadata": {
    "scrolled": true
   },
   "outputs": [
    {
     "data": {
      "image/png": "[encoded data removed]",
      "text/plain": [
       "<matplotlib.figure.Figure at 0xb57df10>"
      ]
     },
     "metadata": {},
     "output_type": "display_data"
    },
    {
     "data": {
      "image/png": "[encoded data removed]",
      "text/plain": [
       "<matplotlib.figure.Figure at 0x7236f10>"
      ]
     },
     "metadata": {},
     "output_type": "display_data"
    },
    {
     "data": {
      "image/png": "[encoded data removed]",
      "text/plain": [
       "<matplotlib.figure.Figure at 0xb92ae10>"
      ]
     },
     "metadata": {},
     "output_type": "display_data"
    },
    {
     "data": {
      "image/png": "[encoded data removed]",
      "text/plain": [
       "<matplotlib.figure.Figure at 0x752fd50>"
      ]
     },
     "metadata": {},
     "output_type": "display_data"
    }
   ],
   "source": [
    "# import seaborn as sbn\n",
    "import matplotlib.pyplot as plt\n",
    "%matplotlib inline\n",
    "import histogrammar as hg\n",
    "import histogrammar.sparksql\n",
    "\n",
    "ZmmPassDF = ZmmDF.filter(\"Zmm.pass\")    \n",
    "\n",
    "histogrammar.sparksql.addMethods(ZmmPassDF)\n",
    "\n",
    "#Zmass\n",
    "dimuonMass = ZmmPassDF.Bin(100, 0, 200, ZmmPassDF.Zmm.mass)\n",
    "dimuonMass.plot.matplotlib(name=\"Invariant mass\", color=\"blue\")\n",
    "plt.semilogy()\n",
    "plt.xlabel('m$^{\\mu\\mu}$ (GeV)')\n",
    "plt.ylabel('Events')\n",
    "plt.show()\n",
    "\n",
    "#ZdPhi\n",
    "dimuondPhi = ZmmPassDF.Bin(64, -3.2, 3.2, ZmmPassDF.Zmm.dPhi)\n",
    "dimuondPhi.plot.matplotlib(name=\"$\\Delta\\phi$\", color=\"blue\")\n",
    "plt.xlabel('$\\Delta\\phi(\\mu\\mu)$')\n",
    "plt.ylabel('Events')\n",
    "plt.show()\n",
    "\n",
    "#Zpt\n",
    "dimuonPt = ZmmPassDF.Bin(100, 0, 200, ZmmPassDF.Zmm.pt)\n",
    "dimuonPt.plot.matplotlib(name=\"p$_T$\", color=\"blue\")\n",
    "plt.semilogy()\n",
    "plt.xlabel('p$_{T}$ (GeV)')\n",
    "plt.ylabel('Events')\n",
    "plt.show()\n",
    "\n",
    "#Zpt vs Dphi\n",
    "dimuonPtvsdPhi = ZmmPassDF.Bin(100, 0, 200, ZmmPassDF.Zmm.pt, value = hg.Bin(64, -3.2, 3.2, ZmmPassDF.Zmm.dPhi))\n",
    "dimuonPtvsdPhi.plot.matplotlib(name=\"p$_T$ vs $\\Delta\\phi(\\mu\\mu)$\")\n",
    "plt.xlabel('p$_{T}$ (GeV)')\n",
    "plt.ylabel('$\\Delta\\phi(\\mu\\mu)$')\n",
    "plt.show()\n"
   ]
  },
  {
   "cell_type": "markdown",
   "metadata": {},
   "source": [
    "# Draw plots subdivided per sample\n",
    "\n",
    "TODO -> weight and stack"
   ]
  },
  {
   "cell_type": "code",
   "execution_count": 30,
   "metadata": {
    "scrolled": true
   },
   "outputs": [
    {
     "data": {
      "image/png": "[encoded data removed]",
      "text/plain": [
       "<matplotlib.figure.Figure at 0xb927450>"
      ]
     },
     "metadata": {},
     "output_type": "display_data"
    },
    {
     "data": {
      "image/png": "[encoded data removed]",
      "text/plain": [
       "<matplotlib.figure.Figure at 0x508d310>"
      ]
     },
     "metadata": {},
     "output_type": "display_data"
    },
    {
     "data": {
      "image/png": "[encoded data removed]",
      "text/plain": [
       "<matplotlib.figure.Figure at 0x5766c50>"
      ]
     },
     "metadata": {},
     "output_type": "display_data"
    },
    {
     "data": {
      "image/png": "[encoded data removed]",
      "text/plain": [
       "<matplotlib.figure.Figure at 0x9291a10>"
      ]
     },
     "metadata": {},
     "output_type": "display_data"
    },
    {
     "data": {
      "image/png": "[encoded data removed]",
      "text/plain": [
       "<matplotlib.figure.Figure at 0x8e01f90>"
      ]
     },
     "metadata": {},
     "output_type": "display_data"
    }
   ],
   "source": [
    "import numpy as np\n",
    "\n",
    "orderedsamples = [\n",
    "    'DYJetsToLL',\n",
    "    'ZZ',\n",
    "    'WZ',\n",
    "    'WW',\n",
    "    'TT',\n",
    "#     'SingleMuon',    \n",
    "]\n",
    "\n",
    "dimuonMassPerSample = {}\n",
    "dataframePerSample = {}\n",
    "\n",
    "for theSample in orderedsamples:\n",
    "    #Zmass\n",
    "    dataframePerSample[theSample] = ZmmPassDF.filter(ZmmPassDF['sample']==theSample)\n",
    "    histogrammar.sparksql.addMethods(dataframePerSample[theSample])\n",
    "    dimuonMassPerSample[theSample] = dataframePerSample[theSample].Bin(100, 0, 200, dataframePerSample[theSample].Zmm.mass, hg.Count(dataframePerSample[theSample].weight))\n",
    "    if not 'SingleMuon' in theSample: \n",
    "        dimuonMassPerSample[theSample].plot.matplotlib(\n",
    "            name=\"Invariant mass {}\".format(theSample), \n",
    "            color=samples[theSample]['color'],\n",
    "        )\n",
    "    plt.semilogy()\n",
    "    plt.xlabel('m$^{\\mu\\mu}$ (GeV)')\n",
    "    plt.ylabel('Events')\n",
    "    plt.show()\n"
   ]
  },
  {
   "cell_type": "code",
   "execution_count": null,
   "metadata": {},
   "outputs": [],
   "source": []
  }
 ],
 "metadata": {
  "kernelspec": {
   "display_name": "Python 2",
   "language": "python",
   "name": "python2"
  },
  "language_info": {
   "codemirror_mode": {
    "name": "ipython",
    "version": 2
   },
   "file_extension": ".py",
   "mimetype": "text/x-python",
   "name": "python",
   "nbconvert_exporter": "python",
   "pygments_lexer": "ipython2",
   "version": "2.7.5"
  }
 },
 "nbformat": 4,
 "nbformat_minor": 2
}
