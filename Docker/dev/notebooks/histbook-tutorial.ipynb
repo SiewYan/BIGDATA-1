{
 "cells": [
  {
   "cell_type": "code",
   "execution_count": 2,
   "metadata": {},
   "outputs": [
    {
     "data": {
      "text/html": [
       "<div class=\"vega-embed\" id=\"b6c99d3e-eaf8-4333-969d-8bea0ea86135\"></div>\n",
       "\n",
       "<style>\n",
       ".vega-embed .error p {\n",
       "    color: firebrick;\n",
       "    font-size: 14px;\n",
       "}\n",
       "</style>\n"
      ]
     },
     "metadata": {
      "jupyter-vega": "#b6c99d3e-eaf8-4333-969d-8bea0ea86135"
     },
     "output_type": "display_data"
    },
    {
     "data": {
      "application/javascript": [
       "var spec = {\"$schema\": \"https://vega.github.io/schema/vega-lite/v2.json\", \"encoding\": {\"y\": {\"field\": \"a1\", \"type\": \"quantitative\", \"axis\": {\"title\": \"entries per bin\"}}, \"x\": {\"field\": \"a0\", \"scale\": {\"zero\": false}, \"type\": \"quantitative\", \"axis\": {\"title\": \"data\"}}}, \"data\": {\"values\": [{\"a1\": 0.0, \"a0\": -5.0}, {\"a1\": 1.0, \"a0\": -4.999999999}, {\"a1\": 17.0, \"a0\": -4.0}, {\"a1\": 203.0, \"a0\": -3.0}, {\"a1\": 1358.0, \"a0\": -2.0}, {\"a1\": 3426.0, \"a0\": -1.0}, {\"a1\": 3385.0, \"a0\": 0.0}, {\"a1\": 1407.0, \"a0\": 1.0}, {\"a1\": 186.0, \"a0\": 2.0}, {\"a1\": 17.0, \"a0\": 3.0}, {\"a1\": 0.0, \"a0\": 4.0}, {\"a1\": 0.0, \"a0\": 5.0}]}, \"transform\": [], \"mark\": {\"type\": \"line\", \"interpolate\": \"step-before\"}};\n",
       "var opt = {};\n",
       "var selector = \"#b6c99d3e-eaf8-4333-969d-8bea0ea86135\";\n",
       "var type = \"vega-lite\";\n",
       "\n",
       "var output_area = this;\n",
       "\n",
       "require(['nbextensions/jupyter-vega/index'], function(vega) {\n",
       "  vega.render(selector, spec, type, opt, output_area);\n",
       "}, function (err) {\n",
       "  if (err.requireType !== 'scripterror') {\n",
       "    throw(err);\n",
       "  }\n",
       "});\n"
      ]
     },
     "metadata": {
      "jupyter-vega": "#b6c99d3e-eaf8-4333-969d-8bea0ea86135"
     },
     "output_type": "display_data"
    },
    {
     "data": {
      "image/png": "[encoded data removed]"
     },
     "metadata": {
      "jupyter-vega": "#b6c99d3e-eaf8-4333-969d-8bea0ea86135"
     },
     "output_type": "display_data"
    }
   ],
   "source": [
    "from histbook import *\n",
    "import numpy\n",
    "from vega import VegaLite as canvas\n",
    "\n",
    "x = numpy.random.normal(0, 1, 10000)\n",
    "histogram = Hist(bin(\"data\", 10, -5, 5))\n",
    "histogram.fill(data=x)\n",
    "histogram.step(\"data\").to(canvas)"
   ]
  },
  {
   "cell_type": "code",
   "execution_count": 3,
   "metadata": {},
   "outputs": [
    {
     "data": {
      "text/html": [
       "<div>\n",
       "<style scoped>\n",
       "    .dataframe tbody tr th:only-of-type {\n",
       "        vertical-align: middle;\n",
       "    }\n",
       "\n",
       "    .dataframe tbody tr th {\n",
       "        vertical-align: top;\n",
       "    }\n",
       "\n",
       "    .dataframe thead th {\n",
       "        text-align: right;\n",
       "    }\n",
       "</style>\n",
       "<table border=\"1\" class=\"dataframe\">\n",
       "  <thead>\n",
       "    <tr style=\"text-align: right;\">\n",
       "      <th></th>\n",
       "      <th>count()</th>\n",
       "      <th>err(count())</th>\n",
       "    </tr>\n",
       "    <tr>\n",
       "      <th>data</th>\n",
       "      <th></th>\n",
       "      <th></th>\n",
       "    </tr>\n",
       "  </thead>\n",
       "  <tbody>\n",
       "    <tr>\n",
       "      <th>[-inf, -5.0)</th>\n",
       "      <td>0.0</td>\n",
       "      <td>0.000000</td>\n",
       "    </tr>\n",
       "    <tr>\n",
       "      <th>[-5.0, -4.0)</th>\n",
       "      <td>1.0</td>\n",
       "      <td>1.000000</td>\n",
       "    </tr>\n",
       "    <tr>\n",
       "      <th>[-4.0, -3.0)</th>\n",
       "      <td>17.0</td>\n",
       "      <td>4.123106</td>\n",
       "    </tr>\n",
       "    <tr>\n",
       "      <th>[-3.0, -2.0)</th>\n",
       "      <td>203.0</td>\n",
       "      <td>14.247807</td>\n",
       "    </tr>\n",
       "    <tr>\n",
       "      <th>[-2.0, -1.0)</th>\n",
       "      <td>1358.0</td>\n",
       "      <td>36.851052</td>\n",
       "    </tr>\n",
       "    <tr>\n",
       "      <th>[-1.0, 0.0)</th>\n",
       "      <td>3426.0</td>\n",
       "      <td>58.532043</td>\n",
       "    </tr>\n",
       "    <tr>\n",
       "      <th>[0.0, 1.0)</th>\n",
       "      <td>3385.0</td>\n",
       "      <td>58.180753</td>\n",
       "    </tr>\n",
       "    <tr>\n",
       "      <th>[1.0, 2.0)</th>\n",
       "      <td>1407.0</td>\n",
       "      <td>37.509999</td>\n",
       "    </tr>\n",
       "    <tr>\n",
       "      <th>[2.0, 3.0)</th>\n",
       "      <td>186.0</td>\n",
       "      <td>13.638182</td>\n",
       "    </tr>\n",
       "    <tr>\n",
       "      <th>[3.0, 4.0)</th>\n",
       "      <td>17.0</td>\n",
       "      <td>4.123106</td>\n",
       "    </tr>\n",
       "    <tr>\n",
       "      <th>[4.0, 5.0)</th>\n",
       "      <td>0.0</td>\n",
       "      <td>0.000000</td>\n",
       "    </tr>\n",
       "    <tr>\n",
       "      <th>[5.0, inf)</th>\n",
       "      <td>0.0</td>\n",
       "      <td>0.000000</td>\n",
       "    </tr>\n",
       "    <tr>\n",
       "      <th>{NaN}</th>\n",
       "      <td>0.0</td>\n",
       "      <td>0.000000</td>\n",
       "    </tr>\n",
       "  </tbody>\n",
       "</table>\n",
       "</div>"
      ],
      "text/plain": [
       "              count()  err(count())\n",
       "data                               \n",
       "[-inf, -5.0)      0.0      0.000000\n",
       "[-5.0, -4.0)      1.0      1.000000\n",
       "[-4.0, -3.0)     17.0      4.123106\n",
       "[-3.0, -2.0)    203.0     14.247807\n",
       "[-2.0, -1.0)   1358.0     36.851052\n",
       "[-1.0, 0.0)    3426.0     58.532043\n",
       "[0.0, 1.0)     3385.0     58.180753\n",
       "[1.0, 2.0)     1407.0     37.509999\n",
       "[2.0, 3.0)      186.0     13.638182\n",
       "[3.0, 4.0)       17.0      4.123106\n",
       "[4.0, 5.0)        0.0      0.000000\n",
       "[5.0, inf)        0.0      0.000000\n",
       "{NaN}             0.0      0.000000"
      ]
     },
     "execution_count": 3,
     "metadata": {},
     "output_type": "execute_result"
    }
   ],
   "source": [
    "histogram.pandas()"
   ]
  },
  {
   "cell_type": "markdown",
   "metadata": {},
   "source": [
    "## Weighted data"
   ]
  },
  {
   "cell_type": "code",
   "execution_count": 5,
   "metadata": {},
   "outputs": [
    {
     "data": {
      "text/html": [
       "<div class=\"vega-embed\" id=\"756b6a93-87a2-4127-b96b-e6a1c9079cfe\"></div>\n",
       "\n",
       "<style>\n",
       ".vega-embed .error p {\n",
       "    color: firebrick;\n",
       "    font-size: 14px;\n",
       "}\n",
       "</style>\n"
      ]
     },
     "metadata": {
      "jupyter-vega": "#756b6a93-87a2-4127-b96b-e6a1c9079cfe"
     },
     "output_type": "display_data"
    },
    {
     "data": {
      "application/javascript": [
       "var spec = {\"$schema\": \"https://vega.github.io/schema/vega-lite/v2.json\", \"encoding\": {\"y\": {\"field\": \"a1\", \"type\": \"quantitative\", \"axis\": {\"title\": \"entries per bin\"}}, \"x\": {\"field\": \"a0\", \"scale\": {\"zero\": false}, \"type\": \"quantitative\", \"axis\": {\"title\": \"data\"}}}, \"data\": {\"values\": [{\"a1\": 0.0, \"a0\": -5.0}, {\"a1\": 0.0, \"a0\": -4.999999999}, {\"a1\": 0.0, \"a0\": -4.9}, {\"a1\": 0.0, \"a0\": -4.8}, {\"a1\": 0.0, \"a0\": -4.7}, {\"a1\": 0.0, \"a0\": -4.6}, {\"a1\": 0.0, \"a0\": -4.5}, {\"a1\": 0.0, \"a0\": -4.4}, {\"a1\": 0.0, \"a0\": -4.3}, {\"a1\": 1.820792366458301, \"a0\": -4.2}, {\"a1\": 0.0, \"a0\": -4.1}, {\"a1\": 0.0, \"a0\": -4.0}, {\"a1\": 0.0, \"a0\": -3.9}, {\"a1\": 0.0, \"a0\": -3.8}, {\"a1\": 0.0, \"a0\": -3.7}, {\"a1\": -6.142458589355782, \"a0\": -3.5999999999999996}, {\"a1\": 7.873496687585944, \"a0\": -3.5}, {\"a1\": 0.0, \"a0\": -3.4}, {\"a1\": 3.3360292282371704, \"a0\": -3.3}, {\"a1\": -1.7354189869860388, \"a0\": -3.2}, {\"a1\": 10.516853523990285, \"a0\": -3.1}, {\"a1\": -1.6485093085741678, \"a0\": -3.0}, {\"a1\": 0.8468215047348036, \"a0\": -2.9}, {\"a1\": -16.644153576220443, \"a0\": -2.8}, {\"a1\": 24.91919305032776, \"a0\": -2.6999999999999997}, {\"a1\": 19.968521155039504, \"a0\": -2.6}, {\"a1\": 31.58646397513429, \"a0\": -2.5}, {\"a1\": 21.18114955201523, \"a0\": -2.4}, {\"a1\": 60.630135095402366, \"a0\": -2.3}, {\"a1\": 108.46947068316156, \"a0\": -2.1999999999999997}, {\"a1\": 36.86092809039652, \"a0\": -2.1}, {\"a1\": 27.97498020761497, \"a0\": -2.0}, {\"a1\": 88.16962073661465, \"a0\": -1.9}, {\"a1\": 146.46402340064012, \"a0\": -1.7999999999999998}, {\"a1\": 144.50386116660786, \"a0\": -1.6999999999999997}, {\"a1\": 185.43015545346393, \"a0\": -1.5999999999999996}, {\"a1\": 78.74998358999413, \"a0\": -1.5}, {\"a1\": 279.9443455691228, \"a0\": -1.4000000000000004}, {\"a1\": 176.16970596047372, \"a0\": -1.2999999999999998}, {\"a1\": 238.12877206872216, \"a0\": -1.2000000000000002}, {\"a1\": 200.42029865918443, \"a0\": -1.0999999999999996}, {\"a1\": 247.82140157768836, \"a0\": -1.0}, {\"a1\": 250.95782963938274, \"a0\": -0.9000000000000004}, {\"a1\": 216.84599434666524, \"a0\": -0.7999999999999998}, {\"a1\": 266.0904429831458, \"a0\": -0.7000000000000002}, {\"a1\": 352.2770824487757, \"a0\": -0.5999999999999996}, {\"a1\": 437.4277393932474, \"a0\": -0.5}, {\"a1\": 261.7695802049889, \"a0\": -0.39999999999999947}, {\"a1\": 371.858959631956, \"a0\": -0.3000000000000007}, {\"a1\": 404.4453815980789, \"a0\": -0.20000000000000018}, {\"a1\": 386.7367566067791, \"a0\": -0.09999999999999964}, {\"a1\": 390.3917912382706, \"a0\": 0.0}, {\"a1\": 356.2101589429846, \"a0\": 0.09999999999999964}, {\"a1\": 203.78784465564112, \"a0\": 0.20000000000000018}, {\"a1\": 435.26540978365483, \"a0\": 0.3000000000000007}, {\"a1\": 294.5256653999169, \"a0\": 0.40000000000000036}, {\"a1\": 433.6992998107172, \"a0\": 0.5}, {\"a1\": 325.78457386903847, \"a0\": 0.6000000000000005}, {\"a1\": 360.4983331392691, \"a0\": 0.6999999999999993}, {\"a1\": 221.73675267731443, \"a0\": 0.7999999999999998}, {\"a1\": 129.25839083057164, \"a0\": 0.8999999999999995}, {\"a1\": 214.85092894894336, \"a0\": 1.0}, {\"a1\": 84.30303272859966, \"a0\": 1.0999999999999996}, {\"a1\": 126.03731433876897, \"a0\": 1.2000000000000002}, {\"a1\": 81.36537930374094, \"a0\": 1.2999999999999998}, {\"a1\": 156.89577301661117, \"a0\": 1.4000000000000004}, {\"a1\": 152.7351922389421, \"a0\": 1.5}, {\"a1\": 164.0591701044975, \"a0\": 1.6000000000000005}, {\"a1\": 80.0893600906152, \"a0\": 1.7000000000000002}, {\"a1\": 113.53251744955544, \"a0\": 1.8000000000000007}, {\"a1\": 42.42774581092356, \"a0\": 1.8999999999999995}, {\"a1\": 95.42921748463759, \"a0\": 2.0}, {\"a1\": -2.3566562370256134, \"a0\": 2.0999999999999996}, {\"a1\": 21.85225460065825, \"a0\": 2.1999999999999993}, {\"a1\": 48.180113816132575, \"a0\": 2.3}, {\"a1\": 15.343074980344092, \"a0\": 2.4000000000000004}, {\"a1\": -6.576234631010363, \"a0\": 2.5}, {\"a1\": 4.320451234023624, \"a0\": 2.5999999999999996}, {\"a1\": 5.985157528780265, \"a0\": 2.7}, {\"a1\": 9.467296806932804, \"a0\": 2.8000000000000007}, {\"a1\": 6.483103591293941, \"a0\": 2.9000000000000004}, {\"a1\": 15.03353764245017, \"a0\": 3.0}, {\"a1\": 11.953565482318385, \"a0\": 3.1000000000000014}, {\"a1\": 3.8959302549516734, \"a0\": 3.1999999999999993}, {\"a1\": 7.799017721693996, \"a0\": 3.299999999999999}, {\"a1\": -0.8900524789983884, \"a0\": 3.4000000000000004}, {\"a1\": 0.0, \"a0\": 3.5}, {\"a1\": 0.0, \"a0\": 3.5999999999999996}, {\"a1\": -4.92831394158997, \"a0\": 3.6999999999999993}, {\"a1\": 0.0, \"a0\": 3.8000000000000007}, {\"a1\": 0.0, \"a0\": 3.9000000000000004}, {\"a1\": 0.0, \"a0\": 4.0}, {\"a1\": 0.0, \"a0\": 4.1}, {\"a1\": 0.0, \"a0\": 4.200000000000001}, {\"a1\": 0.0, \"a0\": 4.300000000000001}, {\"a1\": 0.0, \"a0\": 4.399999999999999}, {\"a1\": 0.0, \"a0\": 4.5}, {\"a1\": 0.0, \"a0\": 4.6}, {\"a1\": 0.0, \"a0\": 4.699999999999999}, {\"a1\": 0.0, \"a0\": 4.800000000000001}, {\"a1\": 0.0, \"a0\": 4.9}, {\"a1\": 0.0, \"a0\": 5.0}]}, \"transform\": [], \"mark\": {\"type\": \"line\", \"interpolate\": \"step-before\"}};\n",
       "var opt = {};\n",
       "var selector = \"#756b6a93-87a2-4127-b96b-e6a1c9079cfe\";\n",
       "var type = \"vega-lite\";\n",
       "\n",
       "var output_area = this;\n",
       "\n",
       "require(['nbextensions/jupyter-vega/index'], function(vega) {\n",
       "  vega.render(selector, spec, type, opt, output_area);\n",
       "}, function (err) {\n",
       "  if (err.requireType !== 'scripterror') {\n",
       "    throw(err);\n",
       "  }\n",
       "});\n"
      ]
     },
     "metadata": {
      "jupyter-vega": "#756b6a93-87a2-4127-b96b-e6a1c9079cfe"
     },
     "output_type": "display_data"
    },
    {
     "data": {
      "image/png": "[encoded data removed]"
     },
     "metadata": {
      "jupyter-vega": "#756b6a93-87a2-4127-b96b-e6a1c9079cfe"
     },
     "output_type": "display_data"
    }
   ],
   "source": [
    "h = Hist(bin(\"data\", 100, -5, 5), weight=\"w\")\n",
    "h.fill(data=x, w=numpy.random.normal(1, 4, 10000))\n",
    "h.step(\"data\").to(canvas)"
   ]
  },
  {
   "cell_type": "code",
   "execution_count": null,
   "metadata": {},
   "outputs": [],
   "source": []
  }
 ],
 "metadata": {
  "kernelspec": {
   "display_name": "Python 2",
   "language": "python",
   "name": "python2"
  },
  "language_info": {
   "codemirror_mode": {
    "name": "ipython",
    "version": 2
   },
   "file_extension": ".py",
   "mimetype": "text/x-python",
   "name": "python",
   "nbconvert_exporter": "python",
   "pygments_lexer": "ipython2",
   "version": "2.7.5"
  }
 },
 "nbformat": 4,
 "nbformat_minor": 2
}
